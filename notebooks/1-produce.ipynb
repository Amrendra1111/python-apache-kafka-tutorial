{
 "cells": [
  {
   "cell_type": "markdown",
   "metadata": {},
   "source": [
    "# Produce messages to an Apache Kafka topic\n",
    "\n",
    "In this notebook you will learn how to produce messages to an Apache Kafka topic\n",
    "\n",
    "![Produce messages to an Apache Kafka Topic](../img/produce.png)\n",
    "\n",
    "---\n",
    "\n",
    "## Prerequisites\n",
    "\n",
    "To start the tutorial you need to:\n",
    "\n",
    "* Download the Aiven for Apache Kafka SSL certificates as mentioned in the [README instructions](../README.md#Download-the-required-SSL-certificates)\n",
    "* Retrieve the Aiven for Apache Kafka hostname and port, from the [Aiven Console](https://console.aiven.io/) in the Aiven for Apache Kafka service overview\n",
    "* Substitute the Apache Kafka hostname and port in the parameters below"
   ]
  },
  {
   "cell_type": "code",
   "execution_count": 6,
   "metadata": {},
   "outputs": [],
   "source": [
    "# Replace the following two placeholders with Aiven for Apache Kafka service hostname and port\n",
    "\n",
    "hostname=\"kafka-12af5b8-kartavya155-4635.a.aivencloud.com\"\n",
    "port=\"24375\""
   ]
  },
  {
   "cell_type": "markdown",
   "metadata": {},
   "source": [
    "---\n",
    "\n",
    "### Install the required libraries\n",
    "\n",
    "The following installs the [kafka-python library](https://kafka-python.readthedocs.io/en/master/) we'll use for the tutorial"
   ]
  },
  {
   "cell_type": "code",
   "execution_count": 2,
   "metadata": {},
   "outputs": [
    {
     "name": "stdout",
     "output_type": "stream",
     "text": [
      "Defaulting to user installation because normal site-packages is not writeable\n",
      "Collecting confluent-kafka\n",
      "  Downloading confluent_kafka-2.2.0-cp310-cp310-manylinux_2_17_x86_64.manylinux2014_x86_64.whl (4.0 MB)\n",
      "\u001b[2K     \u001b[90m━━━━━━━━━━━━━━━━━━━━━━━━━━━━━━━━━━━━━━━━\u001b[0m \u001b[32m4.0/4.0 MB\u001b[0m \u001b[31m22.4 MB/s\u001b[0m eta \u001b[36m0:00:00\u001b[0m00:01\u001b[0m00:01\u001b[0m\n",
      "\u001b[?25hInstalling collected packages: confluent-kafka\n",
      "Successfully installed confluent-kafka-2.2.0\n"
     ]
    }
   ],
   "source": [
    "!pip install confluent-kafka"
   ]
  },
  {
   "cell_type": "markdown",
   "metadata": {},
   "source": [
    "---\n",
    "\n",
    "## Create an Apache Kafka producer\n",
    "\n",
    "The next step is to configure the Kafka producer."
   ]
  },
  {
   "cell_type": "code",
   "execution_count": 7,
   "metadata": {},
   "outputs": [],
   "source": [
    "import json\n",
    "from confluent_kafka import SerializingProducer\n",
    "\n",
    "def json_serializer(msg, s_obj):\n",
    "    return json.dumps(msg).encode('ascii')\n",
    "\n",
    "conf = {\n",
    "    'bootstrap.servers': hostname+\":\"+port,\n",
    "    'client.id': 'myclient',\n",
    "    'security.protocol': 'SSL',\n",
    "    'ssl.ca.location': '../sslcerts/ca.pem',\n",
    "    'ssl.certificate.location': '../sslcerts/service.cert',\n",
    "    'ssl.key.location': '../sslcerts/service.key', \n",
    "    'value.serializer': json_serializer,\n",
    "    'key.serializer': json_serializer\n",
    "    }\n",
    "\n",
    "producer = SerializingProducer(conf)"
   ]
  },
  {
   "cell_type": "markdown",
   "metadata": {},
   "source": [
    "---\n",
    "## Push your first message to the `pizzas` topic\n",
    "\n",
    "In the below section we're pushing the first message to the `pizzas` topic.\n",
    "\n",
    "> Note that we're producing data to a topic named `pizzas`, you need to have the topic created beforehand in Apache Kafka or the `kafka.auto_create_topics_enable` parameter enabled\n",
    "\n",
    "The `flush` function ensures that the message is sent to Kafka"
   ]
  },
  {
   "cell_type": "code",
   "execution_count": 5,
   "metadata": {},
   "outputs": [
    {
     "name": "stderr",
     "output_type": "stream",
     "text": [
      "%3|1698155783.629|FAIL|myclient#producer-1| [thrd:ssl://<kafka-12af5b8-kartavya155-4635.a.aivencloud.com>:0/boots]: ssl://<kafka-12af5b8-kartavya155-4635.a.aivencloud.com>:0/bootstrap: Failed to resolve '<kafka-12af5b8-kartavya155-4635.a.aivencloud.com>:0': Name or service not known (after 0ms in state CONNECT, 15 identical error(s) suppressed)\n",
      "%3|1698155813.630|FAIL|myclient#producer-1| [thrd:ssl://<kafka-12af5b8-kartavya155-4635.a.aivencloud.com>:0/boots]: ssl://<kafka-12af5b8-kartavya155-4635.a.aivencloud.com>:0/bootstrap: Failed to resolve '<kafka-12af5b8-kartavya155-4635.a.aivencloud.com>:0': Name or service not known (after 0ms in state CONNECT, 15 identical error(s) suppressed)\n",
      "%3|1698155843.631|FAIL|myclient#producer-1| [thrd:ssl://<kafka-12af5b8-kartavya155-4635.a.aivencloud.com>:0/boots]: ssl://<kafka-12af5b8-kartavya155-4635.a.aivencloud.com>:0/bootstrap: Failed to resolve '<kafka-12af5b8-kartavya155-4635.a.aivencloud.com>:0': Name or service not known (after 0ms in state CONNECT, 15 identical error(s) suppressed)\n",
      "%3|1698155873.631|FAIL|myclient#producer-1| [thrd:ssl://<kafka-12af5b8-kartavya155-4635.a.aivencloud.com>:0/boots]: ssl://<kafka-12af5b8-kartavya155-4635.a.aivencloud.com>:0/bootstrap: Failed to resolve '<kafka-12af5b8-kartavya155-4635.a.aivencloud.com>:0': Name or service not known (after 0ms in state CONNECT, 15 identical error(s) suppressed)\n",
      "%3|1698155903.632|FAIL|myclient#producer-1| [thrd:ssl://<kafka-12af5b8-kartavya155-4635.a.aivencloud.com>:0/boots]: ssl://<kafka-12af5b8-kartavya155-4635.a.aivencloud.com>:0/bootstrap: Failed to resolve '<kafka-12af5b8-kartavya155-4635.a.aivencloud.com>:0': Name or service not known (after 0ms in state CONNECT, 15 identical error(s) suppressed)\n",
      "%3|1698155934.634|FAIL|myclient#producer-1| [thrd:ssl://<kafka-12af5b8-kartavya155-4635.a.aivencloud.com>:0/boots]: ssl://<kafka-12af5b8-kartavya155-4635.a.aivencloud.com>:0/bootstrap: Failed to resolve '<kafka-12af5b8-kartavya155-4635.a.aivencloud.com>:0': Name or service not known (after 0ms in state CONNECT, 16 identical error(s) suppressed)\n",
      "%3|1698155964.635|FAIL|myclient#producer-1| [thrd:ssl://<kafka-12af5b8-kartavya155-4635.a.aivencloud.com>:0/boots]: ssl://<kafka-12af5b8-kartavya155-4635.a.aivencloud.com>:0/bootstrap: Failed to resolve '<kafka-12af5b8-kartavya155-4635.a.aivencloud.com>:0': Name or service not known (after 0ms in state CONNECT, 15 identical error(s) suppressed)\n",
      "%3|1698155995.636|FAIL|myclient#producer-1| [thrd:ssl://<kafka-12af5b8-kartavya155-4635.a.aivencloud.com>:0/boots]: ssl://<kafka-12af5b8-kartavya155-4635.a.aivencloud.com>:0/bootstrap: Failed to resolve '<kafka-12af5b8-kartavya155-4635.a.aivencloud.com>:0': Name or service not known (after 0ms in state CONNECT, 16 identical error(s) suppressed)\n",
      "%3|1698156025.637|FAIL|myclient#producer-1| [thrd:ssl://<kafka-12af5b8-kartavya155-4635.a.aivencloud.com>:0/boots]: ssl://<kafka-12af5b8-kartavya155-4635.a.aivencloud.com>:0/bootstrap: Failed to resolve '<kafka-12af5b8-kartavya155-4635.a.aivencloud.com>:0': Name or service not known (after 0ms in state CONNECT, 15 identical error(s) suppressed)\n",
      "%3|1698156055.638|FAIL|myclient#producer-1| [thrd:ssl://<kafka-12af5b8-kartavya155-4635.a.aivencloud.com>:0/boots]: ssl://<kafka-12af5b8-kartavya155-4635.a.aivencloud.com>:0/bootstrap: Failed to resolve '<kafka-12af5b8-kartavya155-4635.a.aivencloud.com>:0': Name or service not known (after 0ms in state CONNECT, 15 identical error(s) suppressed)\n"
     ]
    },
    {
     "data": {
      "text/plain": [
       "0"
      ]
     },
     "execution_count": 5,
     "metadata": {},
     "output_type": "execute_result"
    }
   ],
   "source": [
    "producer.produce(\n",
    "    \"pizzas\",\n",
    "    key={\"id\":1},\n",
    "    value={\"id\":1, \"name\":\"👨 Francesco\", \"pizza\":\"Margherita 🍕\"}\n",
    ")\n",
    "\n",
    "producer.flush()"
   ]
  },
  {
   "cell_type": "markdown",
   "metadata": {},
   "source": [
    "---\n",
    "\n",
    "## Produce more messages\n",
    "\n"
   ]
  },
  {
   "cell_type": "code",
   "execution_count": 9,
   "metadata": {},
   "outputs": [
    {
     "data": {
      "text/plain": [
       "0"
      ]
     },
     "execution_count": 9,
     "metadata": {},
     "output_type": "execute_result"
    }
   ],
   "source": [
    "producer.produce(\n",
    "    \"pizzas\",\n",
    "    key={\"id\":2},\n",
    "    value={\"id\":2, \"name\":\"👩 Adele\", \"pizza\":\"Hawaii 🍕+🍍+🥓\"}\n",
    ")\n",
    "\n",
    "producer.produce(\n",
    "    \"pizzas\",\n",
    "    key={\"id\":3},\n",
    "    value={\"id\":3, \"name\":\"👦 Mark\", \"pizza\":\"Choccolate 🍕+🍫\"}\n",
    ")\n",
    "\n",
    "producer.flush()"
   ]
  }
 ],
 "metadata": {
  "kernelspec": {
   "display_name": "Python 3 (ipykernel)",
   "language": "python",
   "name": "python3"
  },
  "language_info": {
   "codemirror_mode": {
    "name": "ipython",
    "version": 3
   },
   "file_extension": ".py",
   "mimetype": "text/x-python",
   "name": "python",
   "nbconvert_exporter": "python",
   "pygments_lexer": "ipython3",
   "version": "3.10.12"
  }
 },
 "nbformat": 4,
 "nbformat_minor": 4
}
